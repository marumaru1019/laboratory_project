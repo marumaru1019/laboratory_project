{
 "cells": [
  {
   "cell_type": "code",
   "execution_count": 1,
   "metadata": {},
   "outputs": [],
   "source": [
    "import pandas as pd\n",
    "import glob"
   ]
  },
  {
   "cell_type": "code",
   "execution_count": 2,
   "metadata": {},
   "outputs": [
    {
     "name": "stdout",
     "output_type": "stream",
     "text": [
      "\u001b[31mdan1.csv\u001b[m\u001b[m*          \u001b[31mgam4.csv\u001b[m\u001b[m*          \u001b[31mkutusita12.csv\u001b[m\u001b[m*    \u001b[31msponge4.csv\u001b[m\u001b[m*\r\n",
      "\u001b[31mdan10.csv\u001b[m\u001b[m*         \u001b[31mgam5.csv\u001b[m\u001b[m*          \u001b[31mkutusita13.csv\u001b[m\u001b[m*    \u001b[31msponge5.csv\u001b[m\u001b[m*\r\n",
      "\u001b[31mdan11.csv\u001b[m\u001b[m*         \u001b[31misi1.csv\u001b[m\u001b[m*          \u001b[31mkutusita2.csv\u001b[m\u001b[m*     \u001b[31msponge6.csv\u001b[m\u001b[m*\r\n",
      "\u001b[31mdan12.csv\u001b[m\u001b[m*         \u001b[31misi10.csv\u001b[m\u001b[m*         \u001b[31mkutusita3.csv\u001b[m\u001b[m*     \u001b[31mtable1.csv\u001b[m\u001b[m*\r\n",
      "\u001b[31mdan2.csv\u001b[m\u001b[m*          \u001b[31misi11.csv\u001b[m\u001b[m*         \u001b[31mkutusita4.csv\u001b[m\u001b[m*     \u001b[31mtable10.csv\u001b[m\u001b[m*\r\n",
      "\u001b[31mdan3.csv\u001b[m\u001b[m*          \u001b[31misi12.csv\u001b[m\u001b[m*         \u001b[31mkutusita5.csv\u001b[m\u001b[m*     \u001b[31mtable11.csv\u001b[m\u001b[m*\r\n",
      "\u001b[31mdan4.csv\u001b[m\u001b[m*          \u001b[31misi2.csv\u001b[m\u001b[m*          \u001b[31mmagic1.csv\u001b[m\u001b[m*        \u001b[31mtable12.csv\u001b[m\u001b[m*\r\n",
      "\u001b[31mdan5.csv\u001b[m\u001b[m*          \u001b[31misi3.csv\u001b[m\u001b[m*          \u001b[31mmagic10.csv\u001b[m\u001b[m*       \u001b[31mtable2.csv\u001b[m\u001b[m*\r\n",
      "\u001b[31mdan6.csv\u001b[m\u001b[m*          \u001b[31misi4.csv\u001b[m\u001b[m*          \u001b[31mmagic11.csv\u001b[m\u001b[m*       \u001b[31mtable3.csv\u001b[m\u001b[m*\r\n",
      "\u001b[31mdenim1.csv\u001b[m\u001b[m*        \u001b[31misi5.csv\u001b[m\u001b[m*          \u001b[31mmagic12.csv\u001b[m\u001b[m*       \u001b[31mtable4.csv\u001b[m\u001b[m*\r\n",
      "\u001b[31mdenim10.csv\u001b[m\u001b[m*       \u001b[31misi6.csv\u001b[m\u001b[m*          \u001b[31mmagic2.csv\u001b[m\u001b[m*        \u001b[31mtable5.csv\u001b[m\u001b[m*\r\n",
      "\u001b[31mdenim11.csv\u001b[m\u001b[m*       \u001b[31mkiban1.csv\u001b[m\u001b[m*        \u001b[31mmagic3.csv\u001b[m\u001b[m*        \u001b[31mtable6.csv\u001b[m\u001b[m*\r\n",
      "\u001b[31mdenim12.csv\u001b[m\u001b[m*       \u001b[31mkiban10.csv\u001b[m\u001b[m*       \u001b[31mmagic4.csv\u001b[m\u001b[m*        \u001b[31myubi1.csv\u001b[m\u001b[m*\r\n",
      "\u001b[31mdenim2.csv\u001b[m\u001b[m*        \u001b[31mkiban11.csv\u001b[m\u001b[m*       \u001b[31mmagic5.csv\u001b[m\u001b[m*        \u001b[31myubi10.csv\u001b[m\u001b[m*\r\n",
      "\u001b[31mdenim3.csv\u001b[m\u001b[m*        \u001b[31mkiban12.csv\u001b[m\u001b[m*       \u001b[31mmagic6.csv\u001b[m\u001b[m*        \u001b[31myubi11.csv\u001b[m\u001b[m*\r\n",
      "\u001b[31mdenim4.csv\u001b[m\u001b[m*        \u001b[31mkiban2.csv\u001b[m\u001b[m*        \u001b[31mmagic7.csv\u001b[m\u001b[m*        \u001b[31myubi12.csv\u001b[m\u001b[m*\r\n",
      "\u001b[31mdenim5.csv\u001b[m\u001b[m*        \u001b[31mkiban3.csv\u001b[m\u001b[m*        \u001b[31msponge1.csv\u001b[m\u001b[m*       \u001b[31myubi2.csv\u001b[m\u001b[m*\r\n",
      "\u001b[31mgam1.csv\u001b[m\u001b[m*          \u001b[31mkiban4.csv\u001b[m\u001b[m*        \u001b[31msponge10.csv\u001b[m\u001b[m*      \u001b[31myubi3.csv\u001b[m\u001b[m*\r\n",
      "\u001b[31mgam10.csv\u001b[m\u001b[m*         \u001b[31mkiban5.csv\u001b[m\u001b[m*        \u001b[31msponge11.csv\u001b[m\u001b[m*      \u001b[31myubi4.csv\u001b[m\u001b[m*\r\n",
      "\u001b[31mgam11.csv\u001b[m\u001b[m*         \u001b[31mkutusita1.csv\u001b[m\u001b[m*     \u001b[31msponge12.csv\u001b[m\u001b[m*      \u001b[31myubi5.csv\u001b[m\u001b[m*\r\n",
      "\u001b[31mgam2.csv\u001b[m\u001b[m*          \u001b[31mkutusita10csv.csv\u001b[m\u001b[m* \u001b[31msponge2.csv\u001b[m\u001b[m*\r\n",
      "\u001b[31mgam3.csv\u001b[m\u001b[m*          \u001b[31mkutusita11.csv\u001b[m\u001b[m*    \u001b[31msponge3.csv\u001b[m\u001b[m*\r\n"
     ]
    }
   ],
   "source": [
    "ls dataset"
   ]
  },
  {
   "cell_type": "markdown",
   "metadata": {},
   "source": [
    "# プラン\n",
    "\n",
    "50mV で -50divにしている  \n",
    "1000Hz\n",
    "\n",
    "ファイルをタイムとVに変換\n",
    "\n",
    "max - minをする　→　固い素材ほどmax-min画大きい\n",
    "\n",
    "8秒までに変換"
   ]
  },
  {
   "cell_type": "code",
   "execution_count": 110,
   "metadata": {},
   "outputs": [],
   "source": [
    "path =  '/Users/ryusei/Desktop/mygit/python_module/lab/dataset/'\n",
    "push_path = '/Users/ryusei/Desktop/mygit/python_module/lab/create_file/'\n",
    "li = []\n",
    "\n",
    "cols = [\"dan\",\"denim\",\"gam\",\"isi\",\"kiban\",\"kutusita\",\"magic\",\"sponge\" ,\"table\",\"yubi\"]\n",
    "\n",
    "col =\"table\""
   ]
  },
  {
   "cell_type": "code",
   "execution_count": 111,
   "metadata": {},
   "outputs": [],
   "source": [
    "def get_file(path ,col , li=[]):\n",
    "    all_files = glob.glob(path + \"/{}*.csv\".format(col))\n",
    "    for filename in all_files:\n",
    "        df = pd.read_csv(filename).iloc[7:,:].reset_index(drop=True).astype(\"float32\")\n",
    "        li.append(df)\n",
    "    return li"
   ]
  },
  {
   "cell_type": "code",
   "execution_count": 112,
   "metadata": {},
   "outputs": [],
   "source": [
    "li = get_file(path,col)"
   ]
  },
  {
   "cell_type": "code",
   "execution_count": 113,
   "metadata": {},
   "outputs": [],
   "source": [
    "# float32に変換する\n",
    "\n",
    "def change_file(li,li2=[]):\n",
    "    for i in li:\n",
    "        i.astype(\"float32\")\n",
    "#         i.CH1[-1000:]=51.2# tableのみ\n",
    "        i.CH1 = (i.CH1  +  2500 )\n",
    "        i.CH1 = i.CH1/1000\n",
    "        li2.append(i)   \n",
    "    return li2\n",
    "\n"
   ]
  },
  {
   "cell_type": "code",
   "execution_count": 102,
   "metadata": {},
   "outputs": [],
   "source": [
    "li2 = change_file(li,li2=[])"
   ]
  },
  {
   "cell_type": "code",
   "execution_count": 103,
   "metadata": {},
   "outputs": [],
   "source": [
    "def table_c(li_table):\n",
    "    for i in range(len(li_table)):\n",
    "        li_table[i].CH1[9000:9999]  = 2.551200\n",
    "    return li_table"
   ]
  },
  {
   "cell_type": "code",
   "execution_count": 104,
   "metadata": {},
   "outputs": [],
   "source": [
    "li2 = table_c(li2)"
   ]
  },
  {
   "cell_type": "code",
   "execution_count": 105,
   "metadata": {},
   "outputs": [],
   "source": [
    "# fileとして保存\n",
    "def to_file(push_path, col, li2):\n",
    "    for i in range(len(li2)):\n",
    "        li2[i].to_csv(push_path+\"{}{}.csv\".format(col,i+1))"
   ]
  },
  {
   "cell_type": "code",
   "execution_count": 106,
   "metadata": {},
   "outputs": [],
   "source": [
    "to_file(push_path, col, li2)"
   ]
  },
  {
   "cell_type": "code",
   "execution_count": 114,
   "metadata": {},
   "outputs": [],
   "source": [
    "def main(path, push_path, cols):\n",
    "    for i in range(len(cols)):\n",
    "        li = get_file(path ,cols[i] , li=[])\n",
    "        li2 = change_file(li,li2=[])\n",
    "        to_file(push_path, cols[i], li2)"
   ]
  },
  {
   "cell_type": "code",
   "execution_count": 115,
   "metadata": {},
   "outputs": [],
   "source": [
    "main(path,  push_path, cols)"
   ]
  },
  {
   "cell_type": "code",
   "execution_count": 25,
   "metadata": {},
   "outputs": [
    {
     "name": "stdout",
     "output_type": "stream",
     "text": [
      "dan1.csv       gam2.csv       kiban4.csv     magic4.csv     table4.csv\r\n",
      "dan2.csv       gam3.csv       kiban5.csv     magic5.csv     table5.csv\r\n",
      "dan3.csv       gam4.csv       kiban6.csv     magic6.csv     table6.csv\r\n",
      "dan4.csv       gam5.csv       kiban7.csv     magic7.csv     table7.csv\r\n",
      "dan5.csv       gam6.csv       kiban8.csv     magic8.csv     table8.csv\r\n",
      "dan6.csv       gam7.csv       kutusita1.csv  magic9.csv     table9.csv\r\n",
      "dan7.csv       isi1.csv       kutusita2.csv  sponge1.csv    yubi1.csv\r\n",
      "dan8.csv       isi2.csv       kutusita3.csv  sponge2.csv    yubi2.csv\r\n",
      "dan9.csv       isi3.csv       kutusita4.csv  sponge3.csv    yubi3.csv\r\n",
      "denim1.csv     isi4.csv       kutusita5.csv  sponge4.csv    yubi4.csv\r\n",
      "denim2.csv     isi5.csv       kutusita6.csv  sponge5.csv    yubi5.csv\r\n",
      "denim3.csv     isi6.csv       kutusita7.csv  sponge6.csv    yubi6.csv\r\n",
      "denim4.csv     isi7.csv       kutusita8.csv  sponge7.csv    yubi7.csv\r\n",
      "denim5.csv     isi8.csv       kutusita9.csv  sponge8.csv    yubi8.csv\r\n",
      "denim6.csv     isi9.csv       magic1.csv     sponge9.csv\r\n",
      "denim7.csv     kiban1.csv     magic10.csv    table1.csv\r\n",
      "denim8.csv     kiban2.csv     magic2.csv     table2.csv\r\n",
      "gam1.csv       kiban3.csv     magic3.csv     table3.csv\r\n"
     ]
    }
   ],
   "source": [
    "ls create_file/"
   ]
  },
  {
   "cell_type": "code",
   "execution_count": null,
   "metadata": {},
   "outputs": [],
   "source": []
  }
 ],
 "metadata": {
  "kernelspec": {
   "display_name": "Python 3.7.2 64-bit",
   "language": "python",
   "name": "python37264bitc6820bcd529848d1aef0990277592879"
  },
  "language_info": {
   "codemirror_mode": {
    "name": "ipython",
    "version": 3
   },
   "file_extension": ".py",
   "mimetype": "text/x-python",
   "name": "python",
   "nbconvert_exporter": "python",
   "pygments_lexer": "ipython3",
   "version": "3.7.2"
  }
 },
 "nbformat": 4,
 "nbformat_minor": 4
}
