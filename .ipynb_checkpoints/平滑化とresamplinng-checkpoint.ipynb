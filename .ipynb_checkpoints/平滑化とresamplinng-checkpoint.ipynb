{
 "cells": [
  {
   "cell_type": "code",
   "execution_count": 1,
   "metadata": {},
   "outputs": [],
   "source": [
    "import pandas as pd"
   ]
  },
  {
   "cell_type": "markdown",
   "metadata": {},
   "source": [
    "spline => make_interp_spline  \n",
    "https://stackoverrun.com/ja/q/5705408"
   ]
  },
  {
   "cell_type": "code",
   "execution_count": 49,
   "metadata": {},
   "outputs": [
    {
     "data": {
      "image/png": "[encoded data removed]",
      "text/plain": [
       "<Figure size 432x288 with 1 Axes>"
      ]
     },
     "metadata": {
      "needs_background": "light"
     },
     "output_type": "display_data"
    }
   ],
   "source": [
    "import numpy as np\n",
    "from scipy.interpolate import make_interp_spline, UnivariateSpline, Akima1DInterpolator, PchipInterpolator\n",
    "import matplotlib.pyplot as plt\n",
    "\n",
    "x_data = np.array([1, 1.2371, 1.6809, 2.89151, 5.13304, 9.23238])\n",
    "\n",
    "y_data = np.array([0.0688824, 0.0490012, 0.0332843, 0.0235889, 0.0222304, 0.0245952])\n",
    "\n",
    "x_data_smooth = np.linspace(min(x_data), 20, 1000)\n",
    "fig, ax = plt.subplots(1,1)\n",
    "\n",
    "# 平滑化スプラインの次数k =>今回は二次元であるため2\n",
    "spl = UnivariateSpline(x_data, y_data, s=0, k=2)\n",
    "y_data_smooth = spl(x_data_smooth)\n",
    "ax.plot(x_data_smooth, y_data_smooth, 'b')\n",
    "\n",
    "# bi = Akima1DInterpolator(x_data, y_data)\n",
    "# y_data_smooth = bi(x_data_smooth)\n",
    "# ax.plot(x_data_smooth, y_data_smooth, 'g')\n",
    "\n",
    "# bi = PchipInterpolator(x_data, y_data)\n",
    "# y_data_smooth = bi(x_data_smooth)\n",
    "# ax.plot(x_data_smooth, y_data_smooth, 'k')\n",
    "\n",
    "\n",
    "ax.plot(x_data_smooth, y_data_smooth)\n",
    "ax.scatter(x_data, y_data)\n",
    "\n",
    "plt.show()"
   ]
  },
  {
   "cell_type": "code",
   "execution_count": 34,
   "metadata": {},
   "outputs": [
    {
     "data": {
      "text/plain": [
       "0.004004004004004136"
      ]
     },
     "execution_count": 34,
     "metadata": {},
     "output_type": "execute_result"
    }
   ],
   "source": [
    "x_data_smooth[2]-x_data_smooth[1]"
   ]
  },
  {
   "cell_type": "code",
   "execution_count": 35,
   "metadata": {},
   "outputs": [
    {
     "data": {
      "text/plain": [
       "0.004004004004004136"
      ]
     },
     "execution_count": 35,
     "metadata": {},
     "output_type": "execute_result"
    }
   ],
   "source": [
    "x_data_smooth[2]-x_data_smooth[1]"
   ]
  },
  {
   "cell_type": "code",
   "execution_count": 36,
   "metadata": {},
   "outputs": [
    {
     "data": {
      "text/plain": [
       "0.00039952947067699307"
      ]
     },
     "execution_count": 36,
     "metadata": {},
     "output_type": "execute_result"
    }
   ],
   "source": [
    "y_data_smooth[12]-y_data_smooth[13]"
   ]
  },
  {
   "cell_type": "code",
   "execution_count": null,
   "metadata": {},
   "outputs": [],
   "source": []
  }
 ],
 "metadata": {
  "kernelspec": {
   "display_name": "Python 3",
   "language": "python",
   "name": "python3"
  },
  "language_info": {
   "codemirror_mode": {
    "name": "ipython",
    "version": 3
   },
   "file_extension": ".py",
   "mimetype": "text/x-python",
   "name": "python",
   "nbconvert_exporter": "python",
   "pygments_lexer": "ipython3",
   "version": "3.8.3"
  }
 },
 "nbformat": 4,
 "nbformat_minor": 4
}
