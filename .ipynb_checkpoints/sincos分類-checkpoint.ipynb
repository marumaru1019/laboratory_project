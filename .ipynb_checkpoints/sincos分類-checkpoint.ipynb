{
 "cells": [
  {
   "cell_type": "code",
   "execution_count": 1,
   "metadata": {},
   "outputs": [],
   "source": [
    "from tensorflow.keras.models import Sequential\n",
    "from tensorflow.keras.layers import Dense, Activation\n",
    "from tensorflow.keras.layers import LSTM\n",
    "from tensorflow.keras.optimizers import Adam\n",
    "from tensorflow.keras.callbacks import EarlyStopping\n",
    "import numpy as np\n",
    "import matplotlib.pyplot as plt"
   ]
  },
  {
   "cell_type": "code",
   "execution_count": 2,
   "metadata": {},
   "outputs": [],
   "source": [
    "def sin( T=100):\n",
    "    x = np.arange(0, 2 * T + 1)\n",
    "    return np.sin(2.0 * np.pi * x / T)"
   ]
  },
  {
   "cell_type": "code",
   "execution_count": 3,
   "metadata": {},
   "outputs": [],
   "source": [
    "def cos(T=100):\n",
    "    x = np.arange(0, 2 * T + 1)\n",
    "    return np.cos(4.0*np.pi*x/T)"
   ]
  },
  {
   "cell_type": "code",
   "execution_count": 4,
   "metadata": {},
   "outputs": [],
   "source": [
    "sin = sin()"
   ]
  },
  {
   "cell_type": "code",
   "execution_count": 5,
   "metadata": {},
   "outputs": [],
   "source": [
    "cos =cos()"
   ]
  },
  {
   "cell_type": "code",
   "execution_count": 6,
   "metadata": {},
   "outputs": [
    {
     "data": {
      "image/png": "[encoded data removed]",
      "text/plain": [
       "<Figure size 432x288 with 1 Axes>"
      ]
     },
     "metadata": {
      "needs_background": "light"
     },
     "output_type": "display_data"
    }
   ],
   "source": [
    "plt.figure()\n",
    "plt.plot(range(0, len(sin)), sin, color=\"b\", label=\"row_data\")\n",
    "plt.plot(range(0, len(cos)), cos, color=\"red\", label=\"row_data\")\n",
    "plt.legend()\n",
    "plt.show()"
   ]
  },
  {
   "cell_type": "code",
   "execution_count": 7,
   "metadata": {},
   "outputs": [],
   "source": [
    "import pandas as pd"
   ]
  },
  {
   "cell_type": "code",
   "execution_count": 8,
   "metadata": {},
   "outputs": [],
   "source": [
    "sin_df = pd.DataFrame(sin)"
   ]
  },
  {
   "cell_type": "code",
   "execution_count": 9,
   "metadata": {},
   "outputs": [
    {
     "data": {
      "text/html": [
       "<div>\n",
       "<style scoped>\n",
       "    .dataframe tbody tr th:only-of-type {\n",
       "        vertical-align: middle;\n",
       "    }\n",
       "\n",
       "    .dataframe tbody tr th {\n",
       "        vertical-align: top;\n",
       "    }\n",
       "\n",
       "    .dataframe thead th {\n",
       "        text-align: right;\n",
       "    }\n",
       "</style>\n",
       "<table border=\"1\" class=\"dataframe\">\n",
       "  <thead>\n",
       "    <tr style=\"text-align: right;\">\n",
       "      <th></th>\n",
       "      <th>0</th>\n",
       "    </tr>\n",
       "  </thead>\n",
       "  <tbody>\n",
       "    <tr>\n",
       "      <th>1</th>\n",
       "      <td>6.279052e-02</td>\n",
       "    </tr>\n",
       "    <tr>\n",
       "      <th>2</th>\n",
       "      <td>1.253332e-01</td>\n",
       "    </tr>\n",
       "    <tr>\n",
       "      <th>3</th>\n",
       "      <td>1.873813e-01</td>\n",
       "    </tr>\n",
       "    <tr>\n",
       "      <th>4</th>\n",
       "      <td>2.486899e-01</td>\n",
       "    </tr>\n",
       "    <tr>\n",
       "      <th>5</th>\n",
       "      <td>3.090170e-01</td>\n",
       "    </tr>\n",
       "    <tr>\n",
       "      <th>...</th>\n",
       "      <td>...</td>\n",
       "    </tr>\n",
       "    <tr>\n",
       "      <th>196</th>\n",
       "      <td>-2.486899e-01</td>\n",
       "    </tr>\n",
       "    <tr>\n",
       "      <th>197</th>\n",
       "      <td>-1.873813e-01</td>\n",
       "    </tr>\n",
       "    <tr>\n",
       "      <th>198</th>\n",
       "      <td>-1.253332e-01</td>\n",
       "    </tr>\n",
       "    <tr>\n",
       "      <th>199</th>\n",
       "      <td>-6.279052e-02</td>\n",
       "    </tr>\n",
       "    <tr>\n",
       "      <th>200</th>\n",
       "      <td>-4.898587e-16</td>\n",
       "    </tr>\n",
       "  </tbody>\n",
       "</table>\n",
       "<p>200 rows × 1 columns</p>\n",
       "</div>"
      ],
      "text/plain": [
       "                0\n",
       "1    6.279052e-02\n",
       "2    1.253332e-01\n",
       "3    1.873813e-01\n",
       "4    2.486899e-01\n",
       "5    3.090170e-01\n",
       "..            ...\n",
       "196 -2.486899e-01\n",
       "197 -1.873813e-01\n",
       "198 -1.253332e-01\n",
       "199 -6.279052e-02\n",
       "200 -4.898587e-16\n",
       "\n",
       "[200 rows x 1 columns]"
      ]
     },
     "execution_count": 9,
     "metadata": {},
     "output_type": "execute_result"
    }
   ],
   "source": [
    "sin_df.drop(0)"
   ]
  },
  {
   "cell_type": "code",
   "execution_count": 10,
   "metadata": {},
   "outputs": [],
   "source": [
    "cos_df = pd.DataFrame(cos)"
   ]
  },
  {
   "cell_type": "code",
   "execution_count": 11,
   "metadata": {},
   "outputs": [
    {
     "data": {
      "text/html": [
       "<div>\n",
       "<style scoped>\n",
       "    .dataframe tbody tr th:only-of-type {\n",
       "        vertical-align: middle;\n",
       "    }\n",
       "\n",
       "    .dataframe tbody tr th {\n",
       "        vertical-align: top;\n",
       "    }\n",
       "\n",
       "    .dataframe thead th {\n",
       "        text-align: right;\n",
       "    }\n",
       "</style>\n",
       "<table border=\"1\" class=\"dataframe\">\n",
       "  <thead>\n",
       "    <tr style=\"text-align: right;\">\n",
       "      <th></th>\n",
       "      <th>0</th>\n",
       "    </tr>\n",
       "  </thead>\n",
       "  <tbody>\n",
       "    <tr>\n",
       "      <th>1</th>\n",
       "      <td>0.992115</td>\n",
       "    </tr>\n",
       "    <tr>\n",
       "      <th>2</th>\n",
       "      <td>0.968583</td>\n",
       "    </tr>\n",
       "    <tr>\n",
       "      <th>3</th>\n",
       "      <td>0.929776</td>\n",
       "    </tr>\n",
       "    <tr>\n",
       "      <th>4</th>\n",
       "      <td>0.876307</td>\n",
       "    </tr>\n",
       "    <tr>\n",
       "      <th>5</th>\n",
       "      <td>0.809017</td>\n",
       "    </tr>\n",
       "    <tr>\n",
       "      <th>...</th>\n",
       "      <td>...</td>\n",
       "    </tr>\n",
       "    <tr>\n",
       "      <th>196</th>\n",
       "      <td>0.876307</td>\n",
       "    </tr>\n",
       "    <tr>\n",
       "      <th>197</th>\n",
       "      <td>0.929776</td>\n",
       "    </tr>\n",
       "    <tr>\n",
       "      <th>198</th>\n",
       "      <td>0.968583</td>\n",
       "    </tr>\n",
       "    <tr>\n",
       "      <th>199</th>\n",
       "      <td>0.992115</td>\n",
       "    </tr>\n",
       "    <tr>\n",
       "      <th>200</th>\n",
       "      <td>1.000000</td>\n",
       "    </tr>\n",
       "  </tbody>\n",
       "</table>\n",
       "<p>200 rows × 1 columns</p>\n",
       "</div>"
      ],
      "text/plain": [
       "            0\n",
       "1    0.992115\n",
       "2    0.968583\n",
       "3    0.929776\n",
       "4    0.876307\n",
       "5    0.809017\n",
       "..        ...\n",
       "196  0.876307\n",
       "197  0.929776\n",
       "198  0.968583\n",
       "199  0.992115\n",
       "200  1.000000\n",
       "\n",
       "[200 rows x 1 columns]"
      ]
     },
     "execution_count": 11,
     "metadata": {},
     "output_type": "execute_result"
    }
   ],
   "source": [
    "cos_df.drop(0)"
   ]
  },
  {
   "cell_type": "code",
   "execution_count": 12,
   "metadata": {},
   "outputs": [
    {
     "data": {
      "text/plain": [
       "array([ 0.00000000e+00,  6.27905195e-02,  1.25333234e-01,  1.87381315e-01,\n",
       "        2.48689887e-01,  3.09016994e-01,  3.68124553e-01,  4.25779292e-01,\n",
       "        4.81753674e-01,  5.35826795e-01,  5.87785252e-01,  6.37423990e-01,\n",
       "        6.84547106e-01,  7.28968627e-01,  7.70513243e-01,  8.09016994e-01,\n",
       "        8.44327926e-01,  8.76306680e-01,  9.04827052e-01,  9.29776486e-01,\n",
       "        9.51056516e-01,  9.68583161e-01,  9.82287251e-01,  9.92114701e-01,\n",
       "        9.98026728e-01,  1.00000000e+00,  9.98026728e-01,  9.92114701e-01,\n",
       "        9.82287251e-01,  9.68583161e-01,  9.51056516e-01,  9.29776486e-01,\n",
       "        9.04827052e-01,  8.76306680e-01,  8.44327926e-01,  8.09016994e-01,\n",
       "        7.70513243e-01,  7.28968627e-01,  6.84547106e-01,  6.37423990e-01,\n",
       "        5.87785252e-01,  5.35826795e-01,  4.81753674e-01,  4.25779292e-01,\n",
       "        3.68124553e-01,  3.09016994e-01,  2.48689887e-01,  1.87381315e-01,\n",
       "        1.25333234e-01,  6.27905195e-02,  1.22464680e-16, -6.27905195e-02,\n",
       "       -1.25333234e-01, -1.87381315e-01, -2.48689887e-01, -3.09016994e-01,\n",
       "       -3.68124553e-01, -4.25779292e-01, -4.81753674e-01, -5.35826795e-01,\n",
       "       -5.87785252e-01, -6.37423990e-01, -6.84547106e-01, -7.28968627e-01,\n",
       "       -7.70513243e-01, -8.09016994e-01, -8.44327926e-01, -8.76306680e-01,\n",
       "       -9.04827052e-01, -9.29776486e-01, -9.51056516e-01, -9.68583161e-01,\n",
       "       -9.82287251e-01, -9.92114701e-01, -9.98026728e-01, -1.00000000e+00,\n",
       "       -9.98026728e-01, -9.92114701e-01, -9.82287251e-01, -9.68583161e-01,\n",
       "       -9.51056516e-01, -9.29776486e-01, -9.04827052e-01, -8.76306680e-01,\n",
       "       -8.44327926e-01, -8.09016994e-01, -7.70513243e-01, -7.28968627e-01,\n",
       "       -6.84547106e-01, -6.37423990e-01, -5.87785252e-01, -5.35826795e-01,\n",
       "       -4.81753674e-01, -4.25779292e-01, -3.68124553e-01, -3.09016994e-01,\n",
       "       -2.48689887e-01, -1.87381315e-01, -1.25333234e-01, -6.27905195e-02,\n",
       "       -2.44929360e-16,  6.27905195e-02,  1.25333234e-01,  1.87381315e-01,\n",
       "        2.48689887e-01,  3.09016994e-01,  3.68124553e-01,  4.25779292e-01,\n",
       "        4.81753674e-01,  5.35826795e-01,  5.87785252e-01,  6.37423990e-01,\n",
       "        6.84547106e-01,  7.28968627e-01,  7.70513243e-01,  8.09016994e-01,\n",
       "        8.44327926e-01,  8.76306680e-01,  9.04827052e-01,  9.29776486e-01,\n",
       "        9.51056516e-01,  9.68583161e-01,  9.82287251e-01,  9.92114701e-01,\n",
       "        9.98026728e-01,  1.00000000e+00,  9.98026728e-01,  9.92114701e-01,\n",
       "        9.82287251e-01,  9.68583161e-01,  9.51056516e-01,  9.29776486e-01,\n",
       "        9.04827052e-01,  8.76306680e-01,  8.44327926e-01,  8.09016994e-01,\n",
       "        7.70513243e-01,  7.28968627e-01,  6.84547106e-01,  6.37423990e-01,\n",
       "        5.87785252e-01,  5.35826795e-01,  4.81753674e-01,  4.25779292e-01,\n",
       "        3.68124553e-01,  3.09016994e-01,  2.48689887e-01,  1.87381315e-01,\n",
       "        1.25333234e-01,  6.27905195e-02,  3.67394040e-16, -6.27905195e-02,\n",
       "       -1.25333234e-01, -1.87381315e-01, -2.48689887e-01, -3.09016994e-01,\n",
       "       -3.68124553e-01, -4.25779292e-01, -4.81753674e-01, -5.35826795e-01,\n",
       "       -5.87785252e-01, -6.37423990e-01, -6.84547106e-01, -7.28968627e-01,\n",
       "       -7.70513243e-01, -8.09016994e-01, -8.44327926e-01, -8.76306680e-01,\n",
       "       -9.04827052e-01, -9.29776486e-01, -9.51056516e-01, -9.68583161e-01,\n",
       "       -9.82287251e-01, -9.92114701e-01, -9.98026728e-01, -1.00000000e+00,\n",
       "       -9.98026728e-01, -9.92114701e-01, -9.82287251e-01, -9.68583161e-01,\n",
       "       -9.51056516e-01, -9.29776486e-01, -9.04827052e-01, -8.76306680e-01,\n",
       "       -8.44327926e-01, -8.09016994e-01, -7.70513243e-01, -7.28968627e-01,\n",
       "       -6.84547106e-01, -6.37423990e-01, -5.87785252e-01, -5.35826795e-01,\n",
       "       -4.81753674e-01, -4.25779292e-01, -3.68124553e-01, -3.09016994e-01,\n",
       "       -2.48689887e-01, -1.87381315e-01, -1.25333234e-01, -6.27905195e-02,\n",
       "       -4.89858720e-16])"
      ]
     },
     "execution_count": 12,
     "metadata": {},
     "output_type": "execute_result"
    }
   ],
   "source": [
    "sin"
   ]
  },
  {
   "cell_type": "code",
   "execution_count": 13,
   "metadata": {},
   "outputs": [],
   "source": [
    "sin_df = sin_df.iloc[:,0]"
   ]
  },
  {
   "cell_type": "code",
   "execution_count": 14,
   "metadata": {},
   "outputs": [],
   "source": [
    "sin = sin_df.tolist()"
   ]
  },
  {
   "cell_type": "code",
   "execution_count": 15,
   "metadata": {},
   "outputs": [],
   "source": [
    "cos_df = cos_df.iloc[:,0]"
   ]
  },
  {
   "cell_type": "code",
   "execution_count": 16,
   "metadata": {},
   "outputs": [],
   "source": [
    "cos = cos_df.tolist()"
   ]
  },
  {
   "cell_type": "code",
   "execution_count": 17,
   "metadata": {},
   "outputs": [],
   "source": [
    "def make_dataset(low_data, n_prev=100):\n",
    "\n",
    "    data, target = [], []\n",
    "    maxlen = 25\n",
    "\n",
    "    for i in range(len(low_data)-maxlen):\n",
    "        data.append(low_data[i:i + maxlen])\n",
    "        target.append(0)\n",
    "\n",
    "    re_data = np.array(data).reshape(len(data), maxlen, 1)\n",
    "    re_target = np.array(target).reshape(len(data), 1)\n",
    "\n",
    "    return re_data, re_target"
   ]
  },
  {
   "cell_type": "code",
   "execution_count": 18,
   "metadata": {},
   "outputs": [],
   "source": [
    "g, h = make_dataset(sin)"
   ]
  },
  {
   "cell_type": "code",
   "execution_count": 19,
   "metadata": {},
   "outputs": [
    {
     "data": {
      "text/plain": [
       "(176, 25, 1)"
      ]
     },
     "execution_count": 19,
     "metadata": {},
     "output_type": "execute_result"
    }
   ],
   "source": [
    "g.shape"
   ]
  },
  {
   "cell_type": "code",
   "execution_count": 20,
   "metadata": {},
   "outputs": [],
   "source": [
    "def make_dataset(low_data, n_prev=100):\n",
    "\n",
    "    data, target = [], []\n",
    "    maxlen = 25\n",
    "\n",
    "    for i in range(len(low_data)-maxlen):\n",
    "        data.append(low_data[i:i + maxlen])\n",
    "        target.append(1)\n",
    "\n",
    "    re_data = np.array(data).reshape(len(data), maxlen, 1)\n",
    "    re_target = np.array(target).reshape(len(data), 1)\n",
    "\n",
    "    return re_data, re_target"
   ]
  },
  {
   "cell_type": "code",
   "execution_count": 21,
   "metadata": {},
   "outputs": [],
   "source": [
    "i,j = make_dataset(cos)"
   ]
  },
  {
   "cell_type": "code",
   "execution_count": 22,
   "metadata": {},
   "outputs": [],
   "source": [
    "j1 = j.reshape(176,)"
   ]
  },
  {
   "cell_type": "code",
   "execution_count": 23,
   "metadata": {},
   "outputs": [],
   "source": [
    "h1 = h.reshape(176,)"
   ]
  },
  {
   "cell_type": "code",
   "execution_count": 24,
   "metadata": {},
   "outputs": [
    {
     "data": {
      "text/plain": [
       "array([0, 0, 0, 0, 0, 0, 0, 0, 0, 0, 0, 0, 0, 0, 0, 0, 0, 0, 0, 0, 0, 0,\n",
       "       0, 0, 0, 0, 0, 0, 0, 0, 0, 0, 0, 0, 0, 0, 0, 0, 0, 0, 0, 0, 0, 0,\n",
       "       0, 0, 0, 0, 0, 0, 0, 0, 0, 0, 0, 0, 0, 0, 0, 0, 0, 0, 0, 0, 0, 0,\n",
       "       0, 0, 0, 0, 0, 0, 0, 0, 0, 0, 0, 0, 0, 0, 0, 0, 0, 0, 0, 0, 0, 0,\n",
       "       0, 0, 0, 0, 0, 0, 0, 0, 0, 0, 0, 0, 0, 0, 0, 0, 0, 0, 0, 0, 0, 0,\n",
       "       0, 0, 0, 0, 0, 0, 0, 0, 0, 0, 0, 0, 0, 0, 0, 0, 0, 0, 0, 0, 0, 0,\n",
       "       0, 0, 0, 0, 0, 0, 0, 0, 0, 0, 0, 0, 0, 0, 0, 0, 0, 0, 0, 0, 0, 0,\n",
       "       0, 0, 0, 0, 0, 0, 0, 0, 0, 0, 0, 0, 0, 0, 0, 0, 0, 0, 0, 0, 0, 0])"
      ]
     },
     "execution_count": 24,
     "metadata": {},
     "output_type": "execute_result"
    }
   ],
   "source": [
    "h1"
   ]
  },
  {
   "cell_type": "code",
   "execution_count": 25,
   "metadata": {},
   "outputs": [
    {
     "name": "stderr",
     "output_type": "stream",
     "text": [
      "Using TensorFlow backend.\n"
     ]
    }
   ],
   "source": [
    "from keras.utils import np_utils"
   ]
  },
  {
   "cell_type": "code",
   "execution_count": 26,
   "metadata": {},
   "outputs": [],
   "source": [
    "y_train = np.hstack((h1,j1 ))"
   ]
  },
  {
   "cell_type": "code",
   "execution_count": 27,
   "metadata": {},
   "outputs": [
    {
     "data": {
      "text/plain": [
       "array([0, 0, 0, 0, 0, 0, 0, 0, 0, 0, 0, 0, 0, 0, 0, 0, 0, 0, 0, 0, 0, 0,\n",
       "       0, 0, 0, 0, 0, 0, 0, 0, 0, 0, 0, 0, 0, 0, 0, 0, 0, 0, 0, 0, 0, 0,\n",
       "       0, 0, 0, 0, 0, 0, 0, 0, 0, 0, 0, 0, 0, 0, 0, 0, 0, 0, 0, 0, 0, 0,\n",
       "       0, 0, 0, 0, 0, 0, 0, 0, 0, 0, 0, 0, 0, 0, 0, 0, 0, 0, 0, 0, 0, 0,\n",
       "       0, 0, 0, 0, 0, 0, 0, 0, 0, 0, 0, 0, 0, 0, 0, 0, 0, 0, 0, 0, 0, 0,\n",
       "       0, 0, 0, 0, 0, 0, 0, 0, 0, 0, 0, 0, 0, 0, 0, 0, 0, 0, 0, 0, 0, 0,\n",
       "       0, 0, 0, 0, 0, 0, 0, 0, 0, 0, 0, 0, 0, 0, 0, 0, 0, 0, 0, 0, 0, 0,\n",
       "       0, 0, 0, 0, 0, 0, 0, 0, 0, 0, 0, 0, 0, 0, 0, 0, 0, 0, 0, 0, 0, 0,\n",
       "       1, 1, 1, 1, 1, 1, 1, 1, 1, 1, 1, 1, 1, 1, 1, 1, 1, 1, 1, 1, 1, 1,\n",
       "       1, 1, 1, 1, 1, 1, 1, 1, 1, 1, 1, 1, 1, 1, 1, 1, 1, 1, 1, 1, 1, 1,\n",
       "       1, 1, 1, 1, 1, 1, 1, 1, 1, 1, 1, 1, 1, 1, 1, 1, 1, 1, 1, 1, 1, 1,\n",
       "       1, 1, 1, 1, 1, 1, 1, 1, 1, 1, 1, 1, 1, 1, 1, 1, 1, 1, 1, 1, 1, 1,\n",
       "       1, 1, 1, 1, 1, 1, 1, 1, 1, 1, 1, 1, 1, 1, 1, 1, 1, 1, 1, 1, 1, 1,\n",
       "       1, 1, 1, 1, 1, 1, 1, 1, 1, 1, 1, 1, 1, 1, 1, 1, 1, 1, 1, 1, 1, 1,\n",
       "       1, 1, 1, 1, 1, 1, 1, 1, 1, 1, 1, 1, 1, 1, 1, 1, 1, 1, 1, 1, 1, 1,\n",
       "       1, 1, 1, 1, 1, 1, 1, 1, 1, 1, 1, 1, 1, 1, 1, 1, 1, 1, 1, 1, 1, 1])"
      ]
     },
     "execution_count": 27,
     "metadata": {},
     "output_type": "execute_result"
    }
   ],
   "source": [
    "y_train"
   ]
  },
  {
   "cell_type": "code",
   "execution_count": 28,
   "metadata": {},
   "outputs": [],
   "source": [
    "x_train = np.vstack((g,i))"
   ]
  },
  {
   "cell_type": "code",
   "execution_count": 29,
   "metadata": {},
   "outputs": [
    {
     "data": {
      "text/plain": [
       "(352, 25, 1)"
      ]
     },
     "execution_count": 29,
     "metadata": {},
     "output_type": "execute_result"
    }
   ],
   "source": [
    "x_train.shape"
   ]
  },
  {
   "cell_type": "code",
   "execution_count": 30,
   "metadata": {},
   "outputs": [
    {
     "data": {
      "text/plain": [
       "(352,)"
      ]
     },
     "execution_count": 30,
     "metadata": {},
     "output_type": "execute_result"
    }
   ],
   "source": [
    "y_train.shape"
   ]
  },
  {
   "cell_type": "code",
   "execution_count": 31,
   "metadata": {},
   "outputs": [],
   "source": [
    "from tensorflow.keras.models import Sequential\n",
    "from tensorflow.keras.layers import Dense,Dropout,Activation,Masking\n",
    "from tensorflow.keras.layers import LSTM\n",
    "from tensorflow.keras.optimizers import Adam\n",
    "from tensorflow.keras.layers import Bidirectional"
   ]
  },
  {
   "cell_type": "code",
   "execution_count": 32,
   "metadata": {},
   "outputs": [],
   "source": [
    "from keras.utils import np_utils"
   ]
  },
  {
   "cell_type": "code",
   "execution_count": 33,
   "metadata": {},
   "outputs": [],
   "source": [
    "y_train = np_utils.to_categorical(y_train)"
   ]
  },
  {
   "cell_type": "code",
   "execution_count": 35,
   "metadata": {},
   "outputs": [],
   "source": [
    "from tensorflow.keras.optimizers import RMSprop\n",
    "from tensorflow.keras.layers import Dropout\n",
    "from tensorflow.keras.models import Sequential\n",
    "from tensorflow.keras.layers import Dense, Activation\n",
    "from tensorflow.keras.layers import LSTM\n",
    "from tensorflow.keras.optimizers import Adam\n",
    "from tensorflow.keras.callbacks import EarlyStopping"
   ]
  },
  {
   "cell_type": "code",
   "execution_count": 37,
   "metadata": {},
   "outputs": [
    {
     "name": "stdout",
     "output_type": "stream",
     "text": [
      "Model: \"sequential_1\"\n",
      "_________________________________________________________________\n",
      "Layer (type)                 Output Shape              Param #   \n",
      "=================================================================\n",
      "lstm (LSTM)                  (None, 50)                10400     \n",
      "_________________________________________________________________\n",
      "dropout (Dropout)            (None, 50)                0         \n",
      "_________________________________________________________________\n",
      "dense (Dense)                (None, 2)                 102       \n",
      "_________________________________________________________________\n",
      "activation (Activation)      (None, 2)                 0         \n",
      "=================================================================\n",
      "Total params: 10,502\n",
      "Trainable params: 10,502\n",
      "Non-trainable params: 0\n",
      "_________________________________________________________________\n"
     ]
    }
   ],
   "source": [
    "BATCHSIZE = 32\n",
    "EPOCHS    = 100\n",
    "UNITNUM   = 50\n",
    "optimizer = RMSprop()\n",
    "model = Sequential()\n",
    "model.add(LSTM(UNITNUM, input_shape = (x_train.shape[1], x_train.shape[2]), return_sequences = False))\n",
    "model.add(Dropout(0.2))\n",
    "model.add(Dense(2))\n",
    "model.add(Activation(\"softmax\"))\n",
    "model.compile(loss = \"categorical_crossentropy\", optimizer = optimizer, metrics = ['accuracy'])\n",
    "model.summary()"
   ]
  },
  {
   "cell_type": "code",
   "execution_count": 43,
   "metadata": {},
   "outputs": [
    {
     "name": "stdout",
     "output_type": "stream",
     "text": [
      "Model: \"sequential\"\n",
      "_________________________________________________________________\n",
      "Layer (type)                 Output Shape              Param #   \n",
      "=================================================================\n",
      "lstm (LSTM)                  (None, 100)               40800     \n",
      "_________________________________________________________________\n",
      "dense (Dense)                (None, 2)                 202       \n",
      "_________________________________________________________________\n",
      "activation (Activation)      (None, 2)                 0         \n",
      "=================================================================\n",
      "Total params: 41,002\n",
      "Trainable params: 41,002\n",
      "Non-trainable params: 0\n",
      "_________________________________________________________________\n"
     ]
    }
   ],
   "source": [
    "# モデル構築\n",
    "model = Sequential()\n",
    "# パディングの値を指定してMaskingレイヤーを作成する\n",
    "model.add(LSTM(\n",
    "    100,input_shape=(25,1),\n",
    "    return_sequences=False))\n",
    "model.add(Dense(2))\n",
    "model.add(Activation(\"softmax\"))\n",
    "model.compile(loss = \"categorical_crossentropy\", optimizer = \"adam\",metrics =\"accuracy\")\n",
    "model.summary()"
   ]
  },
  {
   "cell_type": "code",
   "execution_count": 44,
   "metadata": {},
   "outputs": [
    {
     "data": {
      "text/plain": [
       "(352, 25, 1)"
      ]
     },
     "execution_count": 44,
     "metadata": {},
     "output_type": "execute_result"
    }
   ],
   "source": [
    "x_train.shape"
   ]
  },
  {
   "cell_type": "code",
   "execution_count": 45,
   "metadata": {},
   "outputs": [
    {
     "data": {
      "text/plain": [
       "(352, 2)"
      ]
     },
     "execution_count": 45,
     "metadata": {},
     "output_type": "execute_result"
    }
   ],
   "source": [
    "y_train.shape"
   ]
  },
  {
   "cell_type": "code",
   "execution_count": 38,
   "metadata": {},
   "outputs": [
    {
     "name": "stdout",
     "output_type": "stream",
     "text": [
      "Epoch 1/30\n",
      "36/36 [==============================] - 0s 9ms/step - loss: 0.6901 - accuracy: 0.5199\n",
      "Epoch 2/30\n",
      "36/36 [==============================] - 0s 9ms/step - loss: 0.6641 - accuracy: 0.5881\n",
      "Epoch 3/30\n",
      "36/36 [==============================] - 0s 8ms/step - loss: 0.6244 - accuracy: 0.6477\n",
      "Epoch 4/30\n",
      "36/36 [==============================] - 0s 9ms/step - loss: 0.5977 - accuracy: 0.6676\n",
      "Epoch 5/30\n",
      "36/36 [==============================] - 0s 8ms/step - loss: 0.5836 - accuracy: 0.6847\n",
      "Epoch 6/30\n",
      "36/36 [==============================] - 0s 9ms/step - loss: 0.5656 - accuracy: 0.6847\n",
      "Epoch 7/30\n",
      "36/36 [==============================] - 0s 8ms/step - loss: 0.5345 - accuracy: 0.6989\n",
      "Epoch 8/30\n",
      "36/36 [==============================] - 0s 8ms/step - loss: 0.5216 - accuracy: 0.7330\n",
      "Epoch 9/30\n",
      "36/36 [==============================] - 0s 8ms/step - loss: 0.5065 - accuracy: 0.7216\n",
      "Epoch 10/30\n",
      "36/36 [==============================] - 0s 8ms/step - loss: 0.4979 - accuracy: 0.7472\n",
      "Epoch 11/30\n",
      "36/36 [==============================] - 0s 9ms/step - loss: 0.4641 - accuracy: 0.7642\n",
      "Epoch 12/30\n",
      "36/36 [==============================] - 0s 9ms/step - loss: 0.4147 - accuracy: 0.8040\n",
      "Epoch 13/30\n",
      "36/36 [==============================] - 0s 8ms/step - loss: 0.3939 - accuracy: 0.8097\n",
      "Epoch 14/30\n",
      "36/36 [==============================] - 0s 8ms/step - loss: 0.3372 - accuracy: 0.8523\n",
      "Epoch 15/30\n",
      "36/36 [==============================] - 0s 8ms/step - loss: 0.2486 - accuracy: 0.8920\n",
      "Epoch 16/30\n",
      "36/36 [==============================] - 0s 9ms/step - loss: 0.1948 - accuracy: 0.9233\n",
      "Epoch 17/30\n",
      "36/36 [==============================] - 0s 8ms/step - loss: 0.1665 - accuracy: 0.9375\n",
      "Epoch 18/30\n",
      "36/36 [==============================] - 0s 9ms/step - loss: 0.1304 - accuracy: 0.9460\n",
      "Epoch 19/30\n",
      "36/36 [==============================] - 0s 9ms/step - loss: 0.0855 - accuracy: 0.9744\n",
      "Epoch 20/30\n",
      "36/36 [==============================] - 0s 8ms/step - loss: 0.1040 - accuracy: 0.9602\n",
      "Epoch 21/30\n",
      "36/36 [==============================] - 0s 8ms/step - loss: 0.0433 - accuracy: 0.9886\n",
      "Epoch 22/30\n",
      "36/36 [==============================] - 0s 9ms/step - loss: 0.0528 - accuracy: 0.9858\n",
      "Epoch 23/30\n",
      "36/36 [==============================] - 0s 8ms/step - loss: 0.0440 - accuracy: 0.9773\n",
      "Epoch 24/30\n",
      "36/36 [==============================] - 0s 9ms/step - loss: 0.0866 - accuracy: 0.9744\n",
      "Epoch 25/30\n",
      "36/36 [==============================] - 0s 9ms/step - loss: 0.0220 - accuracy: 0.9972\n",
      "Epoch 26/30\n",
      "36/36 [==============================] - 0s 8ms/step - loss: 0.0393 - accuracy: 0.9943\n",
      "Epoch 27/30\n",
      "36/36 [==============================] - 0s 8ms/step - loss: 0.0323 - accuracy: 0.9886\n",
      "Epoch 28/30\n",
      "36/36 [==============================] - 0s 8ms/step - loss: 0.0581 - accuracy: 0.9858\n",
      "Epoch 29/30\n",
      "36/36 [==============================] - 0s 9ms/step - loss: 0.0388 - accuracy: 0.9886\n",
      "Epoch 30/30\n",
      "36/36 [==============================] - 0s 8ms/step - loss: 0.0069 - accuracy: 1.0000\n"
     ]
    }
   ],
   "source": [
    "history = model.fit(x_train, y_train, batch_size = 10, epochs = 30)"
   ]
  },
  {
   "cell_type": "code",
   "execution_count": 47,
   "metadata": {},
   "outputs": [
    {
     "data": {
      "text/plain": [
       "tensorflow.python.keras.callbacks.History"
      ]
     },
     "execution_count": 47,
     "metadata": {},
     "output_type": "execute_result"
    }
   ],
   "source": [
    "type(history)"
   ]
  },
  {
   "cell_type": "code",
   "execution_count": 48,
   "metadata": {},
   "outputs": [],
   "source": [
    "def plot_history_loss(fit):\n",
    "    axL.plot(fit.history['loss'], label = \"for training\", color = 'dodgerblue')\n",
    "    axL.set_title('model loss')\n",
    "    axL.set_xlabel('epoch')\n",
    "    axL.set_ylabel('loss')"
   ]
  },
  {
   "cell_type": "code",
   "execution_count": 49,
   "metadata": {},
   "outputs": [],
   "source": [
    "def plot_history_accuracy(fit):\n",
    "    axR.plot(fit.history['accuracy'], label = \"for training\", color = 'dodgerblue')\n",
    "    axR.set_title('model accuracy')\n",
    "    axR.set_xlabel('epoch')\n",
    "    axR.set_ylabel('accuracy')"
   ]
  },
  {
   "cell_type": "code",
   "execution_count": 50,
   "metadata": {},
   "outputs": [
    {
     "data": {
      "image/png": "[encoded data removed]",
      "text/plain": [
       "<Figure size 720x360 with 2 Axes>"
      ]
     },
     "metadata": {
      "needs_background": "light"
     },
     "output_type": "display_data"
    }
   ],
   "source": [
    "ig, (axL, axR) = plt.subplots(ncols = 2, figsize = (10,5))\n",
    "plt.subplots_adjust(wspace = 0.5)\n",
    "plot_history_loss(history)\n",
    "plot_history_accuracy(history)"
   ]
  },
  {
   "cell_type": "code",
   "execution_count": 51,
   "metadata": {},
   "outputs": [],
   "source": [
    "def sin( T=100):\n",
    "    x = np.arange(0, 2 * T + 1)\n",
    "    return np.sin(2.0 * np.pi * x / T)"
   ]
  },
  {
   "cell_type": "code",
   "execution_count": 52,
   "metadata": {},
   "outputs": [],
   "source": [
    "sin2 = sin()"
   ]
  },
  {
   "cell_type": "code",
   "execution_count": 53,
   "metadata": {},
   "outputs": [],
   "source": [
    "sin_df2 = pd.DataFrame(sin2)"
   ]
  },
  {
   "cell_type": "code",
   "execution_count": 54,
   "metadata": {},
   "outputs": [
    {
     "data": {
      "text/html": [
       "<div>\n",
       "<style scoped>\n",
       "    .dataframe tbody tr th:only-of-type {\n",
       "        vertical-align: middle;\n",
       "    }\n",
       "\n",
       "    .dataframe tbody tr th {\n",
       "        vertical-align: top;\n",
       "    }\n",
       "\n",
       "    .dataframe thead th {\n",
       "        text-align: right;\n",
       "    }\n",
       "</style>\n",
       "<table border=\"1\" class=\"dataframe\">\n",
       "  <thead>\n",
       "    <tr style=\"text-align: right;\">\n",
       "      <th></th>\n",
       "      <th>0</th>\n",
       "    </tr>\n",
       "  </thead>\n",
       "  <tbody>\n",
       "    <tr>\n",
       "      <th>0</th>\n",
       "      <td>0.000000e+00</td>\n",
       "    </tr>\n",
       "    <tr>\n",
       "      <th>1</th>\n",
       "      <td>6.279052e-02</td>\n",
       "    </tr>\n",
       "    <tr>\n",
       "      <th>2</th>\n",
       "      <td>1.253332e-01</td>\n",
       "    </tr>\n",
       "    <tr>\n",
       "      <th>3</th>\n",
       "      <td>1.873813e-01</td>\n",
       "    </tr>\n",
       "    <tr>\n",
       "      <th>4</th>\n",
       "      <td>2.486899e-01</td>\n",
       "    </tr>\n",
       "    <tr>\n",
       "      <th>...</th>\n",
       "      <td>...</td>\n",
       "    </tr>\n",
       "    <tr>\n",
       "      <th>196</th>\n",
       "      <td>-2.486899e-01</td>\n",
       "    </tr>\n",
       "    <tr>\n",
       "      <th>197</th>\n",
       "      <td>-1.873813e-01</td>\n",
       "    </tr>\n",
       "    <tr>\n",
       "      <th>198</th>\n",
       "      <td>-1.253332e-01</td>\n",
       "    </tr>\n",
       "    <tr>\n",
       "      <th>199</th>\n",
       "      <td>-6.279052e-02</td>\n",
       "    </tr>\n",
       "    <tr>\n",
       "      <th>200</th>\n",
       "      <td>-4.898587e-16</td>\n",
       "    </tr>\n",
       "  </tbody>\n",
       "</table>\n",
       "<p>201 rows × 1 columns</p>\n",
       "</div>"
      ],
      "text/plain": [
       "                0\n",
       "0    0.000000e+00\n",
       "1    6.279052e-02\n",
       "2    1.253332e-01\n",
       "3    1.873813e-01\n",
       "4    2.486899e-01\n",
       "..            ...\n",
       "196 -2.486899e-01\n",
       "197 -1.873813e-01\n",
       "198 -1.253332e-01\n",
       "199 -6.279052e-02\n",
       "200 -4.898587e-16\n",
       "\n",
       "[201 rows x 1 columns]"
      ]
     },
     "execution_count": 54,
     "metadata": {},
     "output_type": "execute_result"
    }
   ],
   "source": [
    "sin_df2"
   ]
  },
  {
   "cell_type": "code",
   "execution_count": 55,
   "metadata": {},
   "outputs": [
    {
     "data": {
      "text/plain": [
       "1      6.279052e-02\n",
       "2      1.253332e-01\n",
       "3      1.873813e-01\n",
       "4      2.486899e-01\n",
       "5      3.090170e-01\n",
       "           ...     \n",
       "196   -2.486899e-01\n",
       "197   -1.873813e-01\n",
       "198   -1.253332e-01\n",
       "199   -6.279052e-02\n",
       "200   -4.898587e-16\n",
       "Name: 0, Length: 200, dtype: float64"
      ]
     },
     "execution_count": 55,
     "metadata": {},
     "output_type": "execute_result"
    }
   ],
   "source": [
    "sin_df.drop(0)"
   ]
  },
  {
   "cell_type": "code",
   "execution_count": 56,
   "metadata": {},
   "outputs": [],
   "source": [
    "k,n  = make_dataset(sin2)"
   ]
  },
  {
   "cell_type": "code",
   "execution_count": 57,
   "metadata": {},
   "outputs": [
    {
     "data": {
      "text/plain": [
       "array([[[ 0.        ],\n",
       "        [ 0.06279052],\n",
       "        [ 0.12533323],\n",
       "        ...,\n",
       "        [ 0.98228725],\n",
       "        [ 0.9921147 ],\n",
       "        [ 0.99802673]],\n",
       "\n",
       "       [[ 0.06279052],\n",
       "        [ 0.12533323],\n",
       "        [ 0.18738131],\n",
       "        ...,\n",
       "        [ 0.9921147 ],\n",
       "        [ 0.99802673],\n",
       "        [ 1.        ]],\n",
       "\n",
       "       [[ 0.12533323],\n",
       "        [ 0.18738131],\n",
       "        [ 0.24868989],\n",
       "        ...,\n",
       "        [ 0.99802673],\n",
       "        [ 1.        ],\n",
       "        [ 0.99802673]],\n",
       "\n",
       "       ...,\n",
       "\n",
       "       [[-0.9921147 ],\n",
       "        [-0.99802673],\n",
       "        [-1.        ],\n",
       "        ...,\n",
       "        [-0.30901699],\n",
       "        [-0.24868989],\n",
       "        [-0.18738131]],\n",
       "\n",
       "       [[-0.99802673],\n",
       "        [-1.        ],\n",
       "        [-0.99802673],\n",
       "        ...,\n",
       "        [-0.24868989],\n",
       "        [-0.18738131],\n",
       "        [-0.12533323]],\n",
       "\n",
       "       [[-1.        ],\n",
       "        [-0.99802673],\n",
       "        [-0.9921147 ],\n",
       "        ...,\n",
       "        [-0.18738131],\n",
       "        [-0.12533323],\n",
       "        [-0.06279052]]])"
      ]
     },
     "execution_count": 57,
     "metadata": {},
     "output_type": "execute_result"
    }
   ],
   "source": [
    "k"
   ]
  },
  {
   "cell_type": "code",
   "execution_count": 58,
   "metadata": {},
   "outputs": [],
   "source": [
    "x_test = k"
   ]
  },
  {
   "cell_type": "code",
   "execution_count": 59,
   "metadata": {},
   "outputs": [],
   "source": [
    "y_test = np_utils.to_categorical(n)"
   ]
  },
  {
   "cell_type": "code",
   "execution_count": 60,
   "metadata": {},
   "outputs": [
    {
     "data": {
      "text/plain": [
       "(176, 2)"
      ]
     },
     "execution_count": 60,
     "metadata": {},
     "output_type": "execute_result"
    }
   ],
   "source": [
    "y_test.shape"
   ]
  },
  {
   "cell_type": "code",
   "execution_count": 61,
   "metadata": {},
   "outputs": [
    {
     "name": "stdout",
     "output_type": "stream",
     "text": [
      "6/6 [==============================] - 0s 3ms/step - loss: 8.1646 - accuracy: 0.0000e+00\n"
     ]
    },
    {
     "data": {
      "text/plain": [
       "[8.164631843566895, 0.0]"
      ]
     },
     "execution_count": 61,
     "metadata": {},
     "output_type": "execute_result"
    }
   ],
   "source": [
    "model.evaluate(x_test,y_test,verbose=1)"
   ]
  },
  {
   "cell_type": "code",
   "execution_count": 62,
   "metadata": {},
   "outputs": [
    {
     "name": "stdout",
     "output_type": "stream",
     "text": [
      "\u001b[34mArduino\u001b[m\u001b[m/\r\n",
      "Creative Cloud\r\n",
      "\u001b[34mFireShot\u001b[m\u001b[m/\r\n",
      "Pandas.ipynb\r\n",
      "\u001b[34mVisual Studio Code.app\u001b[m\u001b[m/\r\n",
      "\u001b[31mcircle-yuka.csv\u001b[m\u001b[m*\r\n",
      "classify.py\r\n",
      "get_map.py\r\n",
      "googlemap.ipynb\r\n",
      "iris_classification.py\r\n",
      "\u001b[34mkaggle\u001b[m\u001b[m/\r\n",
      "lstm.py\r\n",
      "\u001b[34mmydocker\u001b[m\u001b[m/\r\n",
      "\u001b[34mmygit\u001b[m\u001b[m/\r\n",
      "\u001b[34mplaidml\u001b[m\u001b[m/\r\n",
      "ryusei\r\n",
      "sincos分類.ipynb\r\n",
      "~$200514_1Y17B022-8_大矢隆晟.docx\r\n",
      "~$人工知能画像.pptx\r\n",
      "~$　スキルアップ.docx\r\n",
      "~$機械学期末レポート.docx\r\n",
      "~$ユースラッシュ物件登録用.xlsx\r\n",
      "~$コンシェルジュサービス記事.docx\r\n",
      "~$ーマンインターフェース期末レポート.docx\r\n",
      "\u001b[34m写真\u001b[m\u001b[m/\r\n",
      "\u001b[34m大学用\u001b[m\u001b[m/\r\n",
      "\u001b[34m研究室\u001b[m\u001b[m/\r\n",
      "履歴書万能.pdf\r\n",
      "職務履歴書.pdf\r\n",
      "履歴書万能.xls\r\n",
      "履歴書万能.xls  -  互換モード.pdf\r\n",
      "\u001b[34mプログラミング\u001b[m\u001b[m/\r\n",
      "澤田研究室紹介2020.docx\r\n"
     ]
    }
   ],
   "source": [
    "ls"
   ]
  },
  {
   "cell_type": "code",
   "execution_count": 63,
   "metadata": {},
   "outputs": [
    {
     "data": {
      "text/plain": [
       "'/Users/ryusei/Desktop'"
      ]
     },
     "execution_count": 63,
     "metadata": {},
     "output_type": "execute_result"
    }
   ],
   "source": [
    "pwd"
   ]
  },
  {
   "cell_type": "code",
   "execution_count": 84,
   "metadata": {},
   "outputs": [],
   "source": [
    "circle  = pd.read_csv(\"circle-yuka.csv\")"
   ]
  },
  {
   "cell_type": "code",
   "execution_count": 83,
   "metadata": {},
   "outputs": [
    {
     "ename": "NameError",
     "evalue": "name 'clircle' is not defined",
     "output_type": "error",
     "traceback": [
      "\u001b[0;31m---------------------------------------------------------------------------\u001b[0m",
      "\u001b[0;31mNameError\u001b[0m                                 Traceback (most recent call last)",
      "\u001b[0;32m<ipython-input-83-c870f252f793>\u001b[0m in \u001b[0;36m<module>\u001b[0;34m\u001b[0m\n\u001b[0;32m----> 1\u001b[0;31m \u001b[0mclircle\u001b[0m\u001b[0;34m\u001b[0m\u001b[0;34m\u001b[0m\u001b[0m\n\u001b[0m",
      "\u001b[0;31mNameError\u001b[0m: name 'clircle' is not defined"
     ]
    }
   ],
   "source": [
    "clircle"
   ]
  },
  {
   "cell_type": "code",
   "execution_count": 85,
   "metadata": {},
   "outputs": [
    {
     "data": {
      "text/html": [
       "<div>\n",
       "<style scoped>\n",
       "    .dataframe tbody tr th:only-of-type {\n",
       "        vertical-align: middle;\n",
       "    }\n",
       "\n",
       "    .dataframe tbody tr th {\n",
       "        vertical-align: top;\n",
       "    }\n",
       "\n",
       "    .dataframe thead th {\n",
       "        text-align: right;\n",
       "    }\n",
       "</style>\n",
       "<table border=\"1\" class=\"dataframe\">\n",
       "  <thead>\n",
       "    <tr style=\"text-align: right;\">\n",
       "      <th></th>\n",
       "      <th>Channel</th>\n",
       "      <th>CH1</th>\n",
       "    </tr>\n",
       "  </thead>\n",
       "  <tbody>\n",
       "    <tr>\n",
       "      <th>0</th>\n",
       "      <td>Frequency            :</td>\n",
       "      <td>?</td>\n",
       "    </tr>\n",
       "    <tr>\n",
       "      <th>1</th>\n",
       "      <td>Period               :</td>\n",
       "      <td>?</td>\n",
       "    </tr>\n",
       "    <tr>\n",
       "      <th>2</th>\n",
       "      <td>PK-PK                :</td>\n",
       "      <td>101.6mV</td>\n",
       "    </tr>\n",
       "    <tr>\n",
       "      <th>3</th>\n",
       "      <td>Probe attenuation    :</td>\n",
       "      <td>10X</td>\n",
       "    </tr>\n",
       "    <tr>\n",
       "      <th>4</th>\n",
       "      <td>Voltage per ADC value:</td>\n",
       "      <td>0.244141mV</td>\n",
       "    </tr>\n",
       "    <tr>\n",
       "      <th>...</th>\n",
       "      <td>...</td>\n",
       "      <td>...</td>\n",
       "    </tr>\n",
       "    <tr>\n",
       "      <th>10002</th>\n",
       "      <td>9996</td>\n",
       "      <td>277.343750</td>\n",
       "    </tr>\n",
       "    <tr>\n",
       "      <th>10003</th>\n",
       "      <td>9997</td>\n",
       "      <td>277.343750</td>\n",
       "    </tr>\n",
       "    <tr>\n",
       "      <th>10004</th>\n",
       "      <td>9998</td>\n",
       "      <td>277.343750</td>\n",
       "    </tr>\n",
       "    <tr>\n",
       "      <th>10005</th>\n",
       "      <td>9999</td>\n",
       "      <td>277.343750</td>\n",
       "    </tr>\n",
       "    <tr>\n",
       "      <th>10006</th>\n",
       "      <td>10000</td>\n",
       "      <td>277.343750</td>\n",
       "    </tr>\n",
       "  </tbody>\n",
       "</table>\n",
       "<p>10007 rows × 2 columns</p>\n",
       "</div>"
      ],
      "text/plain": [
       "                      Channel         CH1\n",
       "0      Frequency            :           ?\n",
       "1      Period               :           ?\n",
       "2      PK-PK                :     101.6mV\n",
       "3      Probe attenuation    :         10X\n",
       "4      Voltage per ADC value:  0.244141mV\n",
       "...                       ...         ...\n",
       "10002                    9996  277.343750\n",
       "10003                    9997  277.343750\n",
       "10004                    9998  277.343750\n",
       "10005                    9999  277.343750\n",
       "10006                   10000  277.343750\n",
       "\n",
       "[10007 rows x 2 columns]"
      ]
     },
     "execution_count": 85,
     "metadata": {},
     "output_type": "execute_result"
    }
   ],
   "source": [
    "circle"
   ]
  },
  {
   "cell_type": "code",
   "execution_count": 86,
   "metadata": {},
   "outputs": [],
   "source": [
    "circle1= circle.drop(0)"
   ]
  },
  {
   "cell_type": "code",
   "execution_count": 87,
   "metadata": {},
   "outputs": [],
   "source": [
    "circle2= circle1.iloc[6:,:]"
   ]
  },
  {
   "cell_type": "code",
   "execution_count": 88,
   "metadata": {},
   "outputs": [
    {
     "data": {
      "text/plain": [
       "7        222.656250\n",
       "8        222.656250\n",
       "9        222.656250\n",
       "10       222.656250\n",
       "11       222.656250\n",
       "            ...    \n",
       "10002    277.343750\n",
       "10003    277.343750\n",
       "10004    277.343750\n",
       "10005    277.343750\n",
       "10006    277.343750\n",
       "Name: CH1, Length: 10000, dtype: object"
      ]
     },
     "execution_count": 88,
     "metadata": {},
     "output_type": "execute_result"
    }
   ],
   "source": [
    "circle2.CH1"
   ]
  },
  {
   "cell_type": "code",
   "execution_count": 98,
   "metadata": {},
   "outputs": [
    {
     "data": {
      "image/png": "[encoded data removed]",
      "text/plain": [
       "<Figure size 432x288 with 1 Axes>"
      ]
     },
     "metadata": {
      "needs_background": "light"
     },
     "output_type": "display_data"
    }
   ],
   "source": [
    "\n",
    "plt.plot(circle2.Channel, circle2.CH1, color=\"b\", label=\"row_data\")\n",
    "plt.show()"
   ]
  },
  {
   "cell_type": "code",
   "execution_count": null,
   "metadata": {},
   "outputs": [],
   "source": []
  }
 ],
 "metadata": {
  "kernelspec": {
   "display_name": "Python 3.7.2 64-bit",
   "language": "python",
   "name": "python37264bitc6820bcd529848d1aef0990277592879"
  },
  "language_info": {
   "codemirror_mode": {
    "name": "ipython",
    "version": 3
   },
   "file_extension": ".py",
   "mimetype": "text/x-python",
   "name": "python",
   "nbconvert_exporter": "python",
   "pygments_lexer": "ipython3",
   "version": "3.7.2"
  }
 },
 "nbformat": 4,
 "nbformat_minor": 4
}
